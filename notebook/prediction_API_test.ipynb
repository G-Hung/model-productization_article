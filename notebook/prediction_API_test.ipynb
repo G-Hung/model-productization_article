{
 "cells": [
  {
   "cell_type": "markdown",
   "metadata": {},
   "source": [
    "# You should only run this notebook after you start the Fast API server locally\n",
    "\n",
    "At project root [cd model-productization_article],\n",
    "\n",
    "After you configure conda env according to README\n",
    "\n",
    "RUN: uvicorn prediction_api.main:app --reload"
   ]
  },
  {
   "cell_type": "code",
   "execution_count": 1,
   "metadata": {
    "ExecuteTime": {
     "end_time": "2020-08-16T03:02:01.650957Z",
     "start_time": "2020-08-16T03:02:01.471401Z"
    }
   },
   "outputs": [],
   "source": [
    "import requests\n",
    "import json"
   ]
  },
  {
   "cell_type": "markdown",
   "metadata": {},
   "source": [
    "# the root"
   ]
  },
  {
   "cell_type": "code",
   "execution_count": 2,
   "metadata": {
    "ExecuteTime": {
     "end_time": "2020-08-16T03:02:01.678789Z",
     "start_time": "2020-08-16T03:02:01.654496Z"
    }
   },
   "outputs": [
    {
     "name": "stdout",
     "output_type": "stream",
     "text": [
      "{'message': 'this is root, prediction endpoint should be `predict`!, update endpoint should be `update_model`'}\n"
     ]
    }
   ],
   "source": [
    "result = requests.get(\"http://127.0.0.1:8000/\")\n",
    "\n",
    "print(result.json())"
   ]
  },
  {
   "cell_type": "markdown",
   "metadata": {},
   "source": [
    "# predict API"
   ]
  },
  {
   "cell_type": "code",
   "execution_count": 3,
   "metadata": {
    "ExecuteTime": {
     "end_time": "2020-08-16T03:02:01.733104Z",
     "start_time": "2020-08-16T03:02:01.688195Z"
    }
   },
   "outputs": [
    {
     "name": "stdout",
     "output_type": "stream",
     "text": [
      "{'prediction': 1, 'utc_ts': 1597546921, 'model': 'RandomForestClassifier'}\n"
     ]
    }
   ],
   "source": [
    "payload = {\n",
    "    \"fixed_acidity\": 10.5,\n",
    "    \"volatile_acidity\": 0.51,\n",
    "    \"citric_acid\": 0.64,\n",
    "    \"residual_sugar\": 2.4,\n",
    "    \"chlorides\": 0.107,\n",
    "    \"free_sulfur_dioxide\": 6.0,\n",
    "    \"total_sulfur_dioxide\": 15.0,\n",
    "    \"density\": 0.9973,\n",
    "    \"pH\": 3.09,\n",
    "    \"sulphates\": 0.66,\n",
    "    \"alcohol\": 11.8,\n",
    "}\n",
    "\n",
    "result = requests.get(\"http://127.0.0.1:8000/predict\", data = json.dumps(payload))\n",
    "\n",
    "print(result.json())"
   ]
  },
  {
   "cell_type": "code",
   "execution_count": 4,
   "metadata": {
    "ExecuteTime": {
     "end_time": "2020-08-16T03:02:01.776852Z",
     "start_time": "2020-08-16T03:02:01.739651Z"
    }
   },
   "outputs": [
    {
     "name": "stdout",
     "output_type": "stream",
     "text": [
      "{'detail': [{'loc': ['body', 'fixed_acidity'], 'msg': 'field required', 'type': 'value_error.missing'}]}\n"
     ]
    }
   ],
   "source": [
    "# SEE!?!?!? FastAPI helps us to validate, what we need to write is only the schema\n",
    "\n",
    "payload = {\n",
    "    \"volatile_acidity\": 0.51,\n",
    "    \"citric_acid\": 0.64,\n",
    "    \"residual_sugar\": 2.4,\n",
    "    \"chlorides\": 0.107,\n",
    "    \"free_sulfur_dioxide\": 6.0,\n",
    "    \"total_sulfur_dioxide\": 15.0,\n",
    "    \"density\": 0.9973,\n",
    "    \"pH\": 3.09,\n",
    "    \"sulphates\": 0.66,\n",
    "    \"alcohol\": 11.8,\n",
    "}\n",
    "\n",
    "result = requests.get(\"http://127.0.0.1:8000/predict\", data = json.dumps(payload))\n",
    "\n",
    "print(result.json())"
   ]
  },
  {
   "cell_type": "markdown",
   "metadata": {},
   "source": [
    "# update_model API"
   ]
  },
  {
   "cell_type": "code",
   "execution_count": 5,
   "metadata": {
    "ExecuteTime": {
     "end_time": "2020-08-16T03:02:01.819192Z",
     "start_time": "2020-08-16T03:02:01.784537Z"
    }
   },
   "outputs": [
    {
     "name": "stdout",
     "output_type": "stream",
     "text": [
      "{'old_model': 'RandomForestClassifier', 'new_model': 'GradientBoostingClassifier', 'utc_ts': 1597546921}\n"
     ]
    }
   ],
   "source": [
    "result = requests.put(\"http://127.0.0.1:8000/update_model\")\n",
    "\n",
    "print(result.json())"
   ]
  },
  {
   "cell_type": "code",
   "execution_count": 6,
   "metadata": {
    "ExecuteTime": {
     "end_time": "2020-08-16T03:02:01.855308Z",
     "start_time": "2020-08-16T03:02:01.822204Z"
    }
   },
   "outputs": [
    {
     "name": "stdout",
     "output_type": "stream",
     "text": [
      "{'prediction': 0, 'utc_ts': 1597546921, 'model': 'GradientBoostingClassifier'}\n"
     ]
    }
   ],
   "source": [
    "# Notice this is using Gradient Boosting\n",
    "\n",
    "payload = {\n",
    "    \"fixed_acidity\": 10.5,\n",
    "    \"volatile_acidity\": 0.51,\n",
    "    \"citric_acid\": 0.64,\n",
    "    \"residual_sugar\": 2.4,\n",
    "    \"chlorides\": 0.107,\n",
    "    \"free_sulfur_dioxide\": 6.0,\n",
    "    \"total_sulfur_dioxide\": 15.0,\n",
    "    \"density\": 0.9973,\n",
    "    \"pH\": 3.09,\n",
    "    \"sulphates\": 0.66,\n",
    "    \"alcohol\": 11.8,\n",
    "}\n",
    "\n",
    "result = requests.get(\"http://127.0.0.1:8000/predict\", data = json.dumps(payload))\n",
    "\n",
    "print(result.json())"
   ]
  },
  {
   "cell_type": "code",
   "execution_count": 7,
   "metadata": {
    "ExecuteTime": {
     "end_time": "2020-08-16T03:02:01.925096Z",
     "start_time": "2020-08-16T03:02:01.863164Z"
    }
   },
   "outputs": [
    {
     "name": "stdout",
     "output_type": "stream",
     "text": [
      "{'prediction': 1, 'utc_ts': 1597546921, 'model': 'RandomForestClassifier'}\n"
     ]
    }
   ],
   "source": [
    "# Notice this is using Random Forest again\n",
    "\n",
    "result = requests.put(\"http://127.0.0.1:8000/update_model\")\n",
    "\n",
    "result = requests.get(\"http://127.0.0.1:8000/predict\", data = json.dumps(payload))\n",
    "\n",
    "print(result.json())"
   ]
  },
  {
   "cell_type": "code",
   "execution_count": null,
   "metadata": {},
   "outputs": [],
   "source": []
  }
 ],
 "metadata": {
  "kernelspec": {
   "display_name": "Python 3",
   "language": "python",
   "name": "python3"
  },
  "language_info": {
   "codemirror_mode": {
    "name": "ipython",
    "version": 3
   },
   "file_extension": ".py",
   "mimetype": "text/x-python",
   "name": "python",
   "nbconvert_exporter": "python",
   "pygments_lexer": "ipython3",
   "version": "3.7.6"
  }
 },
 "nbformat": 4,
 "nbformat_minor": 4
}
